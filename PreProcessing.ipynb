{
 "cells": [
  {
   "cell_type": "code",
   "execution_count": 1,
   "id": "2ecfa27e-1ada-4550-9d59-768ec137f70c",
   "metadata": {},
   "outputs": [],
   "source": [
    "import uproot\n",
    "import numpy\n",
    "import vector\n",
    "import matplotlib.pyplot as plt\n",
    "import pickle"
   ]
  },
  {
   "cell_type": "code",
   "execution_count": 2,
   "id": "ff832046",
   "metadata": {},
   "outputs": [],
   "source": [
    "def initialize_vectors(E, px, py, pz):\n",
    "    vector_list = []\n",
    "    num_events = len(E)\n",
    "    for event in range(num_events):\n",
    "        vector_list.append(vector.obj(px=px[event], py=py[event], pz=pz[event], E=E[event]))\n",
    "    return vector_list"
   ]
  },
  {
   "cell_type": "code",
   "execution_count": 3,
   "id": "84c18383",
   "metadata": {},
   "outputs": [],
   "source": [
    "def get_vectors(file):\n",
    "    with uproot.open(file+\":events\") as file:\n",
    "        mass=file[\"mass\"].array()\n",
    "        pid=file[\"pid\"].array()\n",
    "        px=file[\"px\"].array()\n",
    "        py=file[\"py\"].array()\n",
    "        pz=file[\"pz\"].array()\n",
    "        E=file[\"energy\"].array()\n",
    "        status=file[\"status\"].array()\n",
    "\n",
    "        antitopE = numpy.ravel(E[pid==-6])\n",
    "        antitoppx = numpy.ravel(px[pid==-6])\n",
    "        antitoppy = numpy.ravel(py[pid==-6])\n",
    "        antitoppz = numpy.ravel(pz[pid==-6])\n",
    "\n",
    "        topE = numpy.ravel(E[pid==6])\n",
    "        toppx = numpy.ravel(px[pid==6])\n",
    "        toppy = numpy.ravel(py[pid==6])\n",
    "        toppz = numpy.ravel(pz[pid==6])\n",
    "\n",
    "        mask1 = abs(pid)==1\n",
    "        mask2 = abs(pid)==3\n",
    "        mask3 = status>0\n",
    "        mask = (mask1|mask2)&mask3\n",
    "        downE = numpy.ravel(E[mask])\n",
    "        downpx = numpy.ravel(px[mask])\n",
    "        downpy = numpy.ravel(py[mask])\n",
    "        downpz = numpy.ravel(pz[mask])\n",
    "\n",
    "    top_vectors = initialize_vectors(topE, toppx, toppy, toppz)\n",
    "    antitop_vectors = initialize_vectors(antitopE, antitoppx, antitoppy, antitoppz)\n",
    "    down_vectors = initialize_vectors(downE, downpx, downpy, downpz)\n",
    "    \n",
    "    return top_vectors, antitop_vectors, down_vectors"
   ]
  },
  {
   "cell_type": "code",
   "execution_count": 4,
   "id": "1637dbc1",
   "metadata": {},
   "outputs": [],
   "source": [
    "def apply_boost(vec1, vec2, vec3=None):\n",
    "    results=[]\n",
    "    num_events=(len(vec1))\n",
    "    for i in range(num_events):\n",
    "        if vec3 is not None:\n",
    "            boost=(vec2[i]+vec3[i])\n",
    "        else: \n",
    "            boost=vec2[i]\n",
    "        results.append(vec1[i].boostCM_of(boost))\n",
    "    return results"
   ]
  },
  {
   "cell_type": "code",
   "execution_count": 5,
   "id": "7a46d4fa",
   "metadata": {},
   "outputs": [],
   "source": [
    "top_vectors_L, antitop_vectors_L, down_vectors_L = get_vectors(\"hard_process_L_10k.root\")\n",
    "\n",
    "top_vectors_CM_L = apply_boost(top_vectors_L, top_vectors_L, antitop_vectors_L)\n",
    "down_vectors_CM_L = apply_boost(down_vectors_L, top_vectors_L, antitop_vectors_L)\n",
    "down_vectors_top_L = apply_boost(down_vectors_CM_L, top_vectors_CM_L, None)"
   ]
  },
  {
   "cell_type": "code",
   "execution_count": 6,
   "id": "def6e423",
   "metadata": {},
   "outputs": [],
   "source": [
    "top_vectors_R, antitop_vectors_R, down_vectors_R = get_vectors(\"hard_process_R_10k.root\")\n",
    "\n",
    "top_vectors_CM_R = apply_boost(top_vectors_R, top_vectors_R, antitop_vectors_R)\n",
    "down_vectors_CM_R = apply_boost(down_vectors_R, top_vectors_R, antitop_vectors_R)\n",
    "down_vectors_top_R = apply_boost(down_vectors_CM_R, top_vectors_CM_R, None)"
   ]
  },
  {
   "cell_type": "code",
   "execution_count": 7,
   "id": "d075ef7c",
   "metadata": {},
   "outputs": [],
   "source": [
    "cos_theta_L=[]\n",
    "for i in range(len(top_vectors_CM_L)):\n",
    "    cos_theta_L.append(top_vectors_CM_L[i].to_3D().unit()@down_vectors_top_L[i].to_3D().unit())"
   ]
  },
  {
   "cell_type": "code",
   "execution_count": 8,
   "id": "66c17c2b",
   "metadata": {},
   "outputs": [],
   "source": [
    "cos_theta_R=[]\n",
    "for i in range(len(top_vectors_CM_R)):\n",
    "    cos_theta_R.append(top_vectors_CM_R[i].to_3D().unit()@down_vectors_top_R[i].to_3D().unit())"
   ]
  },
  {
   "cell_type": "code",
   "execution_count": 9,
   "id": "d504f1cb",
   "metadata": {},
   "outputs": [
    {
     "data": {
      "image/png": "[encoded data removed]",
      "text/plain": [
       "<Figure size 640x480 with 1 Axes>"
      ]
     },
     "metadata": {},
     "output_type": "display_data"
    }
   ],
   "source": [
    "plt.title(\"Cos Theta\")\n",
    "plt.hist(cos_theta_L, histtype='step', color='r', label='L')\n",
    "plt.hist(cos_theta_R, histtype='step', color='b', label='R')\n",
    "plt.legend()\n",
    "plt.show()"
   ]
  },
  {
   "cell_type": "code",
   "execution_count": 10,
   "id": "f1486329",
   "metadata": {},
   "outputs": [],
   "source": [
    "dataset_L=[]\n",
    "for i in range(len(top_vectors_L)):\n",
    "    dataset_L.append([\n",
    "                     down_vectors_L[i].px, down_vectors_L[i].py, down_vectors_L[i].pz, down_vectors_L[i].E,\n",
    "                     top_vectors_L[i].px, top_vectors_L[i].py, top_vectors_L[i].pz, top_vectors_L[i].E,\n",
    "                     #antitop_vectors_L[i].px, antitop_vectors_L[i].py, antitop_vectors_L[i].pz, antitop_vectors_L[i].E,\n",
    "\n",
    "                     ])\n",
    "dataset_L=numpy.array(dataset_L)\n",
    "labels_L=numpy.zeros((len(dataset_L),1))"
   ]
  },
  {
   "cell_type": "code",
   "execution_count": 11,
   "id": "675edfc7",
   "metadata": {},
   "outputs": [],
   "source": [
    "dataset_R=[]\n",
    "for i in range(len(top_vectors_R)):\n",
    "    dataset_R.append([\n",
    "                     down_vectors_R[i].px, down_vectors_R[i].py, down_vectors_R[i].pz, down_vectors_R[i].E,\n",
    "                     top_vectors_R[i].px, top_vectors_R[i].py, top_vectors_R[i].pz, top_vectors_R[i].E,\n",
    "                     #antitop_vectors_R[i].px, antitop_vectors_R[i].py, antitop_vectors_R[i].pz, antitop_vectors_R[i].E,\n",
    "                     ])\n",
    "dataset_R=numpy.array(dataset_R)\n",
    "labels_R=numpy.ones((len(dataset_R),1))"
   ]
  },
  {
   "cell_type": "code",
   "execution_count": 12,
   "id": "9353648d-ea31-488b-9e6b-c900d4c93fe0",
   "metadata": {},
   "outputs": [],
   "source": [
    "dataset=numpy.concatenate([dataset_L, dataset_R], axis=0)\n",
    "labels=numpy.concatenate([labels_L, labels_R], axis=0)"
   ]
  },
  {
   "cell_type": "code",
   "execution_count": 13,
   "id": "18e4062a-4a23-4d11-b34f-d0acb197bda5",
   "metadata": {},
   "outputs": [],
   "source": [
    "p=numpy.random.permutation(len(dataset))\n",
    "dataset_shuffled=dataset[p]\n",
    "labels_shuffled=labels[p]"
   ]
  },
  {
   "cell_type": "code",
   "execution_count": 14,
   "id": "a7428c50-a980-4dd4-a33a-295a7ca60be3",
   "metadata": {},
   "outputs": [],
   "source": [
    "total_num_events=len(labels_shuffled)\n",
    "test_train_split = int(0.7*total_num_events)\n",
    "\n",
    "dataset_train=dataset_shuffled[0:test_train_split]\n",
    "labels_train=labels_shuffled[0:test_train_split]\n",
    "\n",
    "dataset_test=dataset_shuffled[test_train_split:]\n",
    "labels_test=labels_shuffled[test_train_split:]"
   ]
  },
  {
   "cell_type": "code",
   "execution_count": 15,
   "id": "8f0a8ed1-7ad9-4eb2-a0b1-ab10cbdda702",
   "metadata": {},
   "outputs": [],
   "source": [
    "with open(\"dataset_train.pkl\", \"wb\") as f:\n",
    "    pickle.dump((dataset_train, labels_train), f)\n",
    "with open(\"dataset_test.pkl\", \"wb\") as f:\n",
    "    pickle.dump((dataset_test, labels_test), f)"
   ]
  },
  {
   "cell_type": "code",
   "execution_count": null,
   "id": "13db7cec",
   "metadata": {},
   "outputs": [],
   "source": []
  }
 ],
 "metadata": {
  "kernelspec": {
   "display_name": "tf",
   "language": "python",
   "name": "tf"
  },
  "language_info": {
   "codemirror_mode": {
    "name": "ipython",
    "version": 3
   },
   "file_extension": ".py",
   "mimetype": "text/x-python",
   "name": "python",
   "nbconvert_exporter": "python",
   "pygments_lexer": "ipython3",
   "version": "3.10.12"
  }
 },
 "nbformat": 4,
 "nbformat_minor": 5
}

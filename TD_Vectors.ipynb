{
 "cells": [
  {
   "cell_type": "code",
   "execution_count": 22,
   "id": "9073a927-a21f-4bf9-8ee6-73231494c201",
   "metadata": {},
   "outputs": [],
   "source": [
    "import uproot"
   ]
  },
  {
   "cell_type": "code",
   "execution_count": 34,
   "id": "849d0c1c-43a9-4ce6-9a5a-71e337c78e1b",
   "metadata": {},
   "outputs": [],
   "source": [
    "import vector"
   ]
  },
  {
   "cell_type": "code",
   "execution_count": 35,
   "id": "75c40b2e-84d3-464b-a61d-46c81e9c57e2",
   "metadata": {},
   "outputs": [],
   "source": [
    "import numpy as np"
   ]
  },
  {
   "cell_type": "code",
   "execution_count": 17,
   "id": "c9c4aec7-d8ee-42ad-ae0a-aed0688404c4",
   "metadata": {},
   "outputs": [],
   "source": [
    "import matplotlib.pyplot as plt"
   ]
  },
  {
   "cell_type": "code",
   "execution_count": 36,
   "id": "be1b8a2c-37f6-401b-97df-95642c7f7959",
   "metadata": {},
   "outputs": [],
   "source": [
    "import awkward as ak"
   ]
  },
  {
   "cell_type": "code",
   "execution_count": 28,
   "id": "4c6d164b-cad2-48f7-b637-0290be492095",
   "metadata": {},
   "outputs": [],
   "source": [
    "fileL = uproot.open(\"Documents/hard_process_L_10k.root:events\")"
   ]
  },
  {
   "cell_type": "code",
   "execution_count": 70,
   "id": "038906a2-3579-4fc1-b1ba-bf960f9d5c92",
   "metadata": {},
   "outputs": [],
   "source": [
    "PIDL=fileL[\"pid\"].array()"
   ]
  },
  {
   "cell_type": "code",
   "execution_count": 74,
   "id": "70dcd5cd-e625-4111-bf9c-a78ab88737ab",
   "metadata": {},
   "outputs": [
    {
     "ename": "ValueError",
     "evalue": "the truth value of an array whose length is not 1 is ambiguous; use ak.any() or ak.all()",
     "output_type": "error",
     "traceback": [
      "\u001b[31m---------------------------------------------------------------------------\u001b[39m",
      "\u001b[31mValueError\u001b[39m                                Traceback (most recent call last)",
      "\u001b[36mCell\u001b[39m\u001b[36m \u001b[39m\u001b[32mIn[74]\u001b[39m\u001b[32m, line 3\u001b[39m\n\u001b[32m      1\u001b[39m PID_tot = []\n\u001b[32m      2\u001b[39m \u001b[38;5;28;01mfor\u001b[39;00m pid \u001b[38;5;129;01min\u001b[39;00m PIDL:\n\u001b[32m----> \u001b[39m\u001b[32m3\u001b[39m     \u001b[38;5;28;01mif\u001b[39;00m pid == \u001b[32m6\u001b[39m:\n\u001b[32m      4\u001b[39m         PID_tot.append(pid)\n",
      "\u001b[36mFile \u001b[39m\u001b[32m~/.local/lib/python3.12/site-packages/awkward/highlevel.py:1742\u001b[39m, in \u001b[36mArray.__bool__\u001b[39m\u001b[34m(self)\u001b[39m\n\u001b[32m   1740\u001b[39m     \u001b[38;5;28;01mreturn\u001b[39;00m \u001b[38;5;28mbool\u001b[39m(\u001b[38;5;28mself\u001b[39m[\u001b[32m0\u001b[39m])\n\u001b[32m   1741\u001b[39m \u001b[38;5;28;01melse\u001b[39;00m:\n\u001b[32m-> \u001b[39m\u001b[32m1742\u001b[39m     \u001b[38;5;28;01mraise\u001b[39;00m \u001b[38;5;167;01mValueError\u001b[39;00m(\n\u001b[32m   1743\u001b[39m         \u001b[33m\"\u001b[39m\u001b[33mthe truth value of an array whose length is not 1 is ambiguous; \u001b[39m\u001b[33m\"\u001b[39m\n\u001b[32m   1744\u001b[39m         \u001b[33m\"\u001b[39m\u001b[33muse ak.any() or ak.all()\u001b[39m\u001b[33m\"\u001b[39m\n\u001b[32m   1745\u001b[39m     )\n",
      "\u001b[31mValueError\u001b[39m: the truth value of an array whose length is not 1 is ambiguous; use ak.any() or ak.all()"
     ]
    }
   ],
   "source": [
    "PID_tot = []\n",
    "for pid in PIDL:\n",
    "    if pid == 6:\n",
    "        PID_tot.append(pid)\n",
    "    "
   ]
  },
  {
   "cell_type": "code",
   "execution_count": 48,
   "id": "0a61ae5f-3cba-4730-be72-eacf5e6e2121",
   "metadata": {},
   "outputs": [],
   "source": [
    "file_path = \"Documents/hard_process_L_10k.root\""
   ]
  },
  {
   "cell_type": "code",
   "execution_count": 45,
   "id": "9896a274-412e-4017-8292-4b20a5a6e6bb",
   "metadata": {},
   "outputs": [],
   "source": [
    "tree_name = \"hard_process_L_10k\""
   ]
  },
  {
   "cell_type": "code",
   "execution_count": 68,
   "id": "3f45fcfa-c25e-4662-8230-8acfa1372165",
   "metadata": {},
   "outputs": [
    {
     "name": "stdout",
     "output_type": "stream",
     "text": [
      "['numParticles', 'eventweight', 'scale', 'alpha_qed', 'alpha_qcd', 'pid', 'status', 'mother1', 'mother2', 'color1', 'color2', 'px', 'py', 'pz', 'energy', 'mass', 'tau', 'spin']\n"
     ]
    }
   ],
   "source": [
    "with uproot.open(\"Documents/hard_process_L_10k.root:events\") as file:\n",
    "    tree = file\n",
    "    px = tree[\"px\"].array()\n",
    "    py = tree[\"py\"].array()\n",
    "    pz = tree[\"pz\"].array()\n",
    "    energy = tree[\"energy\"].array()\n",
    "\n",
    "    print(file.keys())"
   ]
  },
  {
   "cell_type": "code",
   "execution_count": 72,
   "id": "d60fd9c6-212d-4f73-a82e-57a638b5f3b4",
   "metadata": {},
   "outputs": [
    {
     "name": "stdout",
     "output_type": "stream",
     "text": [
      "[[21, 21, -6, -24, 6, 24, 5, 2, -1, -5, 13, -14], ..., [21, 21, ..., 11, -12]]\n"
     ]
    }
   ],
   "source": [
    "print(PIDL)"
   ]
  },
  {
   "cell_type": "code",
   "execution_count": 64,
   "id": "72451ac8-fc9e-40c8-a33e-761d9f3cf8ea",
   "metadata": {},
   "outputs": [
    {
     "ename": "TypeError",
     "evalue": "float() argument must be a string or a real number, not 'Array'",
     "output_type": "error",
     "traceback": [
      "\u001b[31m---------------------------------------------------------------------------\u001b[39m",
      "\u001b[31mTypeError\u001b[39m                                 Traceback (most recent call last)",
      "\u001b[36mCell\u001b[39m\u001b[36m \u001b[39m\u001b[32mIn[64]\u001b[39m\u001b[32m, line 1\u001b[39m\n\u001b[32m----> \u001b[39m\u001b[32m1\u001b[39m px_float = \u001b[38;5;28;43mfloat\u001b[39;49m\u001b[43m(\u001b[49m\u001b[43mpx\u001b[49m\u001b[43m)\u001b[49m\n",
      "\u001b[31mTypeError\u001b[39m: float() argument must be a string or a real number, not 'Array'"
     ]
    }
   ],
   "source": [
    "px_float = float(px)"
   ]
  },
  {
   "cell_type": "code",
   "execution_count": 62,
   "id": "845c01d9-7328-4df1-96c2-cec52714b00a",
   "metadata": {},
   "outputs": [
    {
     "ename": "TypeError",
     "evalue": "a coordinate must be of the type int or float",
     "output_type": "error",
     "traceback": [
      "\u001b[31m---------------------------------------------------------------------------\u001b[39m",
      "\u001b[31mTypeError\u001b[39m                                 Traceback (most recent call last)",
      "\u001b[36mCell\u001b[39m\u001b[36m \u001b[39m\u001b[32mIn[62]\u001b[39m\u001b[32m, line 1\u001b[39m\n\u001b[32m----> \u001b[39m\u001b[32m1\u001b[39m \u001b[43mvector\u001b[49m\u001b[43m.\u001b[49m\u001b[43mobj\u001b[49m\u001b[43m(\u001b[49m\u001b[43mpx\u001b[49m\u001b[43m=\u001b[49m\u001b[43mpx\u001b[49m\u001b[43m,\u001b[49m\u001b[43m \u001b[49m\u001b[43mpy\u001b[49m\u001b[43m=\u001b[49m\u001b[43mpy\u001b[49m\u001b[43m,\u001b[49m\u001b[43m \u001b[49m\u001b[43mpz\u001b[49m\u001b[43m=\u001b[49m\u001b[43mpz\u001b[49m\u001b[43m,\u001b[49m\u001b[43m \u001b[49m\u001b[43mE\u001b[49m\u001b[43m=\u001b[49m\u001b[43menergy\u001b[49m\u001b[43m)\u001b[49m\n",
      "\u001b[36mFile \u001b[39m\u001b[32m~/.local/lib/python3.12/site-packages/vector/backends/object.py:3156\u001b[39m, in \u001b[36mobj\u001b[39m\u001b[34m(**coordinates)\u001b[39m\n\u001b[32m   3153\u001b[39m generic_coordinates = {}\n\u001b[32m   3155\u001b[39m \u001b[38;5;28;01mif\u001b[39;00m \u001b[38;5;129;01mnot\u001b[39;00m _is_type_safe(coordinates):\n\u001b[32m-> \u001b[39m\u001b[32m3156\u001b[39m     \u001b[38;5;28;01mraise\u001b[39;00m \u001b[38;5;167;01mTypeError\u001b[39;00m(\u001b[33m\"\u001b[39m\u001b[33ma coordinate must be of the type int or float\u001b[39m\u001b[33m\"\u001b[39m)\n\u001b[32m   3158\u001b[39m \u001b[38;5;28;01mif\u001b[39;00m \u001b[33m\"\u001b[39m\u001b[33mpx\u001b[39m\u001b[33m\"\u001b[39m \u001b[38;5;129;01min\u001b[39;00m coordinates:\n\u001b[32m   3159\u001b[39m     is_momentum = \u001b[38;5;28;01mTrue\u001b[39;00m\n",
      "\u001b[31mTypeError\u001b[39m: a coordinate must be of the type int or float"
     ]
    }
   ],
   "source": [
    "vector.obj(px=px, py=py, pz=pz, E=energy)"
   ]
  },
  {
   "cell_type": "code",
   "execution_count": null,
   "id": "0840ae84-f768-4cb8-adfa-e9566b2826cf",
   "metadata": {},
   "outputs": [],
   "source": []
  }
 ],
 "metadata": {
  "kernelspec": {
   "display_name": "Python 3 (ipykernel)",
   "language": "python",
   "name": "python3"
  },
  "language_info": {
   "codemirror_mode": {
    "name": "ipython",
    "version": 3
   },
   "file_extension": ".py",
   "mimetype": "text/x-python",
   "name": "python",
   "nbconvert_exporter": "python",
   "pygments_lexer": "ipython3",
   "version": "3.12.9"
  }
 },
 "nbformat": 4,
 "nbformat_minor": 5
}
